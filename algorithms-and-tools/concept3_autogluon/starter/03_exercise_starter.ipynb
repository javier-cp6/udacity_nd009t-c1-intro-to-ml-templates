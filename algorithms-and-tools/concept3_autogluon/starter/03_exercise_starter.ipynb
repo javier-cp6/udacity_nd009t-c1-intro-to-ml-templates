{
 "cells": [
  {
   "cell_type": "markdown",
   "id": "d9520883-fb9c-42fd-8d73-d19e3a401c7f",
   "metadata": {},
   "source": [
    "Throughout this lesson, you've been trying different models on the same two datasets, wine and diabetes. Now, we're going to try our hand at accelerating this methodology by using AutoGluon. In this exercise, train two different AutonGluon models and see how they compare to previous iterations in exercise 1 and 2.\n",
    "\n",
    "You're tasked with completing the following steps:\n",
    "1. Load in the wine dataset from scikit learn.\n",
    "2. For the wine dataset, create a train and test split, 80% train / 20% test.\n",
    "3. Create a AutoGluon Classifier model with these hyper parameters:\n",
    "    1. time_limit: 120\n",
    "    2. presets: best_quality\n",
    "4. Output the model table summary\n",
    "5. Evaluate the trained model on the test dataset\n",
    "6. Load the diabetes dataset from scikit learn\n",
    "7. For the Diabetes dataset, create a train and test split, 80% train / 20% test.\n",
    "8. Create a AutoGluon Regression model with these hyper parameters:\n",
    "    1. eval_metric: r2\n",
    "    2. time_limit: 120\n",
    "    3. presets: best_quality\n",
    "9. Output the model table summary\n",
    "10. Evaluate the trained model on the test dataset"
   ]
  },
  {
   "cell_type": "markdown",
   "id": "8b0ac658-af67-4355-a789-147a1a98b7cd",
   "metadata": {},
   "source": [
    "## Setup"
   ]
  },
  {
   "cell_type": "markdown",
   "id": "dc846de2-0e72-4935-a786-ae65df4f2948",
   "metadata": {},
   "source": [
    "### Open up Sagemaker Studio"
   ]
  },
  {
   "cell_type": "markdown",
   "id": "4a4cbe42-87c5-4671-87e4-507764ad0ed4",
   "metadata": {},
   "source": [
    "1. Notebook should be using a `ml.t3.medium` instance (2 vCPU + 4 GiB)\n",
    "2. Notebook should be using kernal: `Python 3 (MXNet 1.8 Python 3.7 CPU Optimized)`"
   ]
  },
  {
   "cell_type": "code",
   "execution_count": null,
   "id": "d158af04-dd1d-4e26-8e63-e81de4e6bbfc",
   "metadata": {
    "tags": []
   },
   "outputs": [],
   "source": [
    "!pip install -U pip\n",
    "!pip install -U setuptools wheel\n",
    "!pip install -U \"mxnet<2.0.0\" bokeh==2.0.1\n",
    "!pip install autogluon --no-cache-dir"
   ]
  },
  {
   "cell_type": "code",
   "execution_count": 2,
   "id": "6dfefd6d-ed7f-46e3-a0c0-befda8d6aa23",
   "metadata": {
    "tags": []
   },
   "outputs": [
    {
     "name": "stderr",
     "output_type": "stream",
     "text": [
      "/usr/local/lib/python3.7/site-packages/tqdm/auto.py:22: TqdmWarning: IProgress not found. Please update jupyter and ipywidgets. See https://ipywidgets.readthedocs.io/en/stable/user_install.html\n",
      "  from .autonotebook import tqdm as notebook_tqdm\n"
     ]
    }
   ],
   "source": [
    "import numpy as np\n",
    "import pandas as pd\n",
    "from sklearn import datasets\n",
    "from sklearn.metrics import r2_score, accuracy_score\n",
    "from sklearn.model_selection import train_test_split\n",
    "from autogluon.tabular import TabularDataset, TabularPredictor"
   ]
  },
  {
   "cell_type": "markdown",
   "id": "66e6fd8c-df16-4109-a7a8-6c6ccb2cdf29",
   "metadata": {},
   "source": [
    "## AutoGluon Classifier"
   ]
  },
  {
   "cell_type": "code",
   "execution_count": 3,
   "id": "fc9c70a0-c311-4cf7-befb-92641f071326",
   "metadata": {
    "tags": []
   },
   "outputs": [],
   "source": [
    "# Load in the wine dataset\n",
    "wine = datasets.load_wine()"
   ]
  },
  {
   "cell_type": "code",
   "execution_count": 4,
   "id": "2d674674-0c0f-4a2a-8d0a-c8b1fc4c11a0",
   "metadata": {
    "tags": []
   },
   "outputs": [],
   "source": [
    "# Create the wine `data` dataset as a dataframe and name the columns with `feature_names`\n",
    "df = pd.DataFrame(wine[\"data\"], columns=wine[\"feature_names\"])\n",
    "\n",
    "# Include the target as well\n",
    "df['target'] = wine[\"target\"]"
   ]
  },
  {
   "cell_type": "code",
   "execution_count": 5,
   "id": "75ee9c82-4e05-4952-8be9-7f823436d32b",
   "metadata": {
    "tags": []
   },
   "outputs": [],
   "source": [
    "# Split your data with these ratios: train: 0.8 | test: 0.2\n",
    "df_train, df_test = train_test_split(\n",
    "    df,\n",
    "    test_size = 0.2,\n",
    "    random_state = 0\n",
    ")"
   ]
  },
  {
   "cell_type": "code",
   "execution_count": 6,
   "id": "7205ac08-20cd-48c5-a90e-44960f6d81f6",
   "metadata": {
    "tags": []
   },
   "outputs": [
    {
     "name": "stderr",
     "output_type": "stream",
     "text": [
      "No path specified. Models will be saved in: \"AutogluonModels/ag-20221220_024818/\"\n",
      "Presets specified: ['best_quality']\n",
      "Stack configuration (auto_stack=True): num_stack_levels=0, num_bag_folds=5, num_bag_sets=20\n",
      "Beginning AutoGluon training ... Time limit = 120s\n",
      "AutoGluon will save models to \"AutogluonModels/ag-20221220_024818/\"\n",
      "AutoGluon Version:  0.6.1\n",
      "Python Version:     3.7.10\n",
      "Operating System:   Linux\n",
      "Platform Machine:   x86_64\n",
      "Platform Version:   #1 SMP Wed Oct 26 20:36:53 UTC 2022\n",
      "Train Data Rows:    142\n",
      "Train Data Columns: 13\n",
      "Label Column: target\n",
      "Preprocessing data ...\n",
      "AutoGluon infers your prediction problem is: 'multiclass' (because dtype of label-column == int, but few unique label-values observed).\n",
      "\t3 unique label values:  [2, 1, 0]\n",
      "\tIf 'multiclass' is not the correct problem_type, please manually specify the problem_type parameter during predictor init (You may specify problem_type as one of: ['binary', 'multiclass', 'regression'])\n",
      "Train Data Class Count: 3\n",
      "Using Feature Generators to preprocess the data ...\n",
      "Fitting AutoMLPipelineFeatureGenerator...\n",
      "\tAvailable Memory:                    2744.13 MB\n",
      "\tTrain Data (Original)  Memory Usage: 0.01 MB (0.0% of available memory)\n",
      "\tInferring data type of each feature based on column values. Set feature_metadata_in to manually specify special dtypes of the features.\n",
      "\tStage 1 Generators:\n",
      "\t\tFitting AsTypeFeatureGenerator...\n",
      "\tStage 2 Generators:\n",
      "\t\tFitting FillNaFeatureGenerator...\n",
      "\tStage 3 Generators:\n",
      "\t\tFitting IdentityFeatureGenerator...\n",
      "\tStage 4 Generators:\n",
      "\t\tFitting DropUniqueFeatureGenerator...\n",
      "\tTypes of features in original data (raw dtype, special dtypes):\n",
      "\t\t('float', []) : 13 | ['alcohol', 'malic_acid', 'ash', 'alcalinity_of_ash', 'magnesium', ...]\n",
      "\tTypes of features in processed data (raw dtype, special dtypes):\n",
      "\t\t('float', []) : 13 | ['alcohol', 'malic_acid', 'ash', 'alcalinity_of_ash', 'magnesium', ...]\n",
      "\t0.1s = Fit runtime\n",
      "\t13 features in original data used to generate 13 features in processed data.\n",
      "\tTrain Data (Processed) Memory Usage: 0.01 MB (0.0% of available memory)\n",
      "Data preprocessing and feature engineering runtime = 0.09s ...\n",
      "AutoGluon will gauge predictive performance using evaluation metric: 'accuracy'\n",
      "\tTo change this, specify the eval_metric parameter of Predictor()\n",
      "Fitting 13 L1 models ...\n",
      "Fitting model: KNeighborsUnif_BAG_L1 ... Training model for up to 119.91s of the 119.91s of remaining time.\n",
      "\t0.662\t = Validation score   (accuracy)\n",
      "\t0.0s\t = Training   runtime\n",
      "\t0.1s\t = Validation runtime\n",
      "Fitting model: KNeighborsDist_BAG_L1 ... Training model for up to 117.7s of the 117.69s of remaining time.\n",
      "\t0.7113\t = Validation score   (accuracy)\n",
      "\t0.0s\t = Training   runtime\n",
      "\t0.1s\t = Validation runtime\n",
      "Fitting model: NeuralNetFastAI_BAG_L1 ... Training model for up to 117.5s of the 117.5s of remaining time.\n",
      "\tFitting 5 child models (S1F1 - S1F5) | Fitting with ParallelLocalFoldFittingStrategy\n",
      "\t0.9859\t = Validation score   (accuracy)\n",
      "\t18.65s\t = Training   runtime\n",
      "\t0.1s\t = Validation runtime\n",
      "Fitting model: LightGBMXT_BAG_L1 ... Training model for up to 91.16s of the 91.16s of remaining time.\n",
      "\tFitting 5 child models (S1F1 - S1F5) | Fitting with ParallelLocalFoldFittingStrategy\n",
      "\t0.9859\t = Validation score   (accuracy)\n",
      "\t9.96s\t = Training   runtime\n",
      "\t0.01s\t = Validation runtime\n",
      "Fitting model: LightGBM_BAG_L1 ... Training model for up to 77.34s of the 77.34s of remaining time.\n",
      "\tFitting 5 child models (S1F1 - S1F5) | Fitting with ParallelLocalFoldFittingStrategy\n",
      "\t0.9789\t = Validation score   (accuracy)\n",
      "\t9.98s\t = Training   runtime\n",
      "\t0.01s\t = Validation runtime\n",
      "Fitting model: RandomForestGini_BAG_L1 ... Training model for up to 63.41s of the 63.41s of remaining time.\n",
      "\t0.9859\t = Validation score   (accuracy)\n",
      "\t0.79s\t = Training   runtime\n",
      "\t0.12s\t = Validation runtime\n",
      "Fitting model: RandomForestEntr_BAG_L1 ... Training model for up to 62.37s of the 62.37s of remaining time.\n",
      "\t0.9859\t = Validation score   (accuracy)\n",
      "\t0.8s\t = Training   runtime\n",
      "\t0.1s\t = Validation runtime\n",
      "Fitting model: CatBoost_BAG_L1 ... Training model for up to 61.35s of the 61.34s of remaining time.\n",
      "\tFitting 5 child models (S1F1 - S1F5) | Fitting with ParallelLocalFoldFittingStrategy\n",
      "\t0.9789\t = Validation score   (accuracy)\n",
      "\t11.61s\t = Training   runtime\n",
      "\t0.01s\t = Validation runtime\n",
      "Fitting model: ExtraTreesGini_BAG_L1 ... Training model for up to 46.11s of the 46.11s of remaining time.\n",
      "\t0.9718\t = Validation score   (accuracy)\n",
      "\t0.74s\t = Training   runtime\n",
      "\t0.16s\t = Validation runtime\n",
      "Fitting model: ExtraTreesEntr_BAG_L1 ... Training model for up to 45.08s of the 45.08s of remaining time.\n",
      "\t0.9789\t = Validation score   (accuracy)\n",
      "\t0.73s\t = Training   runtime\n",
      "\t0.1s\t = Validation runtime\n",
      "Fitting model: XGBoost_BAG_L1 ... Training model for up to 44.13s of the 44.12s of remaining time.\n",
      "\tFitting 5 child models (S1F1 - S1F5) | Fitting with ParallelLocalFoldFittingStrategy\n",
      "\t0.9718\t = Validation score   (accuracy)\n",
      "\t13.11s\t = Training   runtime\n",
      "\t0.08s\t = Validation runtime\n",
      "Fitting model: NeuralNetTorch_BAG_L1 ... Training model for up to 27.28s of the 27.27s of remaining time.\n",
      "\tFitting 5 child models (S1F1 - S1F5) | Fitting with ParallelLocalFoldFittingStrategy\n",
      "\t0.9859\t = Validation score   (accuracy)\n",
      "\t13.07s\t = Training   runtime\n",
      "\t0.05s\t = Validation runtime\n",
      "Fitting model: LightGBMLarge_BAG_L1 ... Training model for up to 10.35s of the 10.35s of remaining time.\n",
      "\tFitting 5 child models (S1F1 - S1F5) | Fitting with ParallelLocalFoldFittingStrategy\n",
      "\t0.9859\t = Validation score   (accuracy)\n",
      "\t11.43s\t = Training   runtime\n",
      "\t0.02s\t = Validation runtime\n",
      "Completed 1/20 k-fold bagging repeats ...\n",
      "Fitting model: WeightedEnsemble_L2 ... Training model for up to 119.91s of the -5.05s of remaining time.\n",
      "\t1.0\t = Validation score   (accuracy)\n",
      "\t0.45s\t = Training   runtime\n",
      "\t0.0s\t = Validation runtime\n",
      "AutoGluon training complete, total runtime = 125.65s ... Best model: \"WeightedEnsemble_L2\"\n",
      "TabularPredictor saved. To load, use: predictor = TabularPredictor.load(\"AutogluonModels/ag-20221220_024818/\")\n"
     ]
    }
   ],
   "source": [
    "# How does the model perform on the training dataset and default model parameters?\n",
    "# Using the hyperparameters in the requirements, is there improvement?\n",
    "# Remember we use the test dataset to score the model\n",
    "# No need to explicitly say this is a classifier, autogluon will pick it up\n",
    "predictor = TabularPredictor(label=\"target\").fit(\n",
    "    train_data=df_train,\n",
    "    time_limit=120,\n",
    "    presets=\"best_quality\"\n",
    ")"
   ]
  },
  {
   "cell_type": "code",
   "execution_count": 7,
   "id": "46b15550-b62b-4a80-857e-12710eee9e73",
   "metadata": {
    "tags": []
   },
   "outputs": [
    {
     "name": "stdout",
     "output_type": "stream",
     "text": [
      "*** Summary of fit() ***\n",
      "Estimated performance of each model:\n",
      "                      model  score_val  pred_time_val   fit_time  pred_time_val_marginal  fit_time_marginal  stack_level  can_infer  fit_order\n",
      "0       WeightedEnsemble_L2   1.000000       0.076459  24.962294                0.000650           0.452718            2       True         14\n",
      "1         LightGBMXT_BAG_L1   0.985915       0.013392   9.959598                0.013392           9.959598            1       True          4\n",
      "2      LightGBMLarge_BAG_L1   0.985915       0.021154  11.434942                0.021154          11.434942            1       True         13\n",
      "3     NeuralNetTorch_BAG_L1   0.985915       0.054655  13.074634                0.054655          13.074634            1       True         12\n",
      "4   RandomForestEntr_BAG_L1   0.985915       0.099351   0.802697                0.099351           0.802697            1       True          7\n",
      "5    NeuralNetFastAI_BAG_L1   0.985915       0.104147  18.650365                0.104147          18.650365            1       True          3\n",
      "6   RandomForestGini_BAG_L1   0.985915       0.121520   0.794639                0.121520           0.794639            1       True          6\n",
      "7           CatBoost_BAG_L1   0.978873       0.005440  11.605760                0.005440          11.605760            1       True          8\n",
      "8           LightGBM_BAG_L1   0.978873       0.013767   9.976712                0.013767           9.976712            1       True          5\n",
      "9     ExtraTreesEntr_BAG_L1   0.978873       0.100269   0.733232                0.100269           0.733232            1       True         10\n",
      "10           XGBoost_BAG_L1   0.971831       0.076422  13.111190                0.076422          13.111190            1       True         11\n",
      "11    ExtraTreesGini_BAG_L1   0.971831       0.157461   0.741323                0.157461           0.741323            1       True          9\n",
      "12    KNeighborsDist_BAG_L1   0.711268       0.101730   0.003868                0.101730           0.003868            1       True          2\n",
      "13    KNeighborsUnif_BAG_L1   0.661972       0.102732   0.004736                0.102732           0.004736            1       True          1\n",
      "Number of models trained: 14\n",
      "Types of models trained:\n",
      "{'StackerEnsembleModel_KNN', 'StackerEnsembleModel_XT', 'StackerEnsembleModel_XGBoost', 'StackerEnsembleModel_LGB', 'StackerEnsembleModel_RF', 'StackerEnsembleModel_NNFastAiTabular', 'StackerEnsembleModel_CatBoost', 'WeightedEnsembleModel', 'StackerEnsembleModel_TabularNeuralNetTorch'}\n",
      "Bagging used: True  (with 5 folds)\n",
      "Multi-layer stack-ensembling used: False \n",
      "Feature Metadata (Processed):\n",
      "(raw dtype, special dtypes):\n",
      "('float', []) : 13 | ['alcohol', 'malic_acid', 'ash', 'alcalinity_of_ash', 'magnesium', ...]\n",
      "Plot summary of models saved to file: AutogluonModels/ag-20221220_024818/SummaryOfModels.html\n",
      "*** End of fit() summary ***\n"
     ]
    },
    {
     "data": {
      "text/plain": [
       "{'model_types': {'KNeighborsUnif_BAG_L1': 'StackerEnsembleModel_KNN',\n",
       "  'KNeighborsDist_BAG_L1': 'StackerEnsembleModel_KNN',\n",
       "  'NeuralNetFastAI_BAG_L1': 'StackerEnsembleModel_NNFastAiTabular',\n",
       "  'LightGBMXT_BAG_L1': 'StackerEnsembleModel_LGB',\n",
       "  'LightGBM_BAG_L1': 'StackerEnsembleModel_LGB',\n",
       "  'RandomForestGini_BAG_L1': 'StackerEnsembleModel_RF',\n",
       "  'RandomForestEntr_BAG_L1': 'StackerEnsembleModel_RF',\n",
       "  'CatBoost_BAG_L1': 'StackerEnsembleModel_CatBoost',\n",
       "  'ExtraTreesGini_BAG_L1': 'StackerEnsembleModel_XT',\n",
       "  'ExtraTreesEntr_BAG_L1': 'StackerEnsembleModel_XT',\n",
       "  'XGBoost_BAG_L1': 'StackerEnsembleModel_XGBoost',\n",
       "  'NeuralNetTorch_BAG_L1': 'StackerEnsembleModel_TabularNeuralNetTorch',\n",
       "  'LightGBMLarge_BAG_L1': 'StackerEnsembleModel_LGB',\n",
       "  'WeightedEnsemble_L2': 'WeightedEnsembleModel'},\n",
       " 'model_performance': {'KNeighborsUnif_BAG_L1': 0.6619718309859155,\n",
       "  'KNeighborsDist_BAG_L1': 0.7112676056338029,\n",
       "  'NeuralNetFastAI_BAG_L1': 0.9859154929577465,\n",
       "  'LightGBMXT_BAG_L1': 0.9859154929577465,\n",
       "  'LightGBM_BAG_L1': 0.9788732394366197,\n",
       "  'RandomForestGini_BAG_L1': 0.9859154929577465,\n",
       "  'RandomForestEntr_BAG_L1': 0.9859154929577465,\n",
       "  'CatBoost_BAG_L1': 0.9788732394366197,\n",
       "  'ExtraTreesGini_BAG_L1': 0.971830985915493,\n",
       "  'ExtraTreesEntr_BAG_L1': 0.9788732394366197,\n",
       "  'XGBoost_BAG_L1': 0.971830985915493,\n",
       "  'NeuralNetTorch_BAG_L1': 0.9859154929577465,\n",
       "  'LightGBMLarge_BAG_L1': 0.9859154929577465,\n",
       "  'WeightedEnsemble_L2': 1.0},\n",
       " 'model_best': 'WeightedEnsemble_L2',\n",
       " 'model_paths': {'KNeighborsUnif_BAG_L1': 'AutogluonModels/ag-20221220_024818/models/KNeighborsUnif_BAG_L1/',\n",
       "  'KNeighborsDist_BAG_L1': 'AutogluonModels/ag-20221220_024818/models/KNeighborsDist_BAG_L1/',\n",
       "  'NeuralNetFastAI_BAG_L1': 'AutogluonModels/ag-20221220_024818/models/NeuralNetFastAI_BAG_L1/',\n",
       "  'LightGBMXT_BAG_L1': 'AutogluonModels/ag-20221220_024818/models/LightGBMXT_BAG_L1/',\n",
       "  'LightGBM_BAG_L1': 'AutogluonModels/ag-20221220_024818/models/LightGBM_BAG_L1/',\n",
       "  'RandomForestGini_BAG_L1': 'AutogluonModels/ag-20221220_024818/models/RandomForestGini_BAG_L1/',\n",
       "  'RandomForestEntr_BAG_L1': 'AutogluonModels/ag-20221220_024818/models/RandomForestEntr_BAG_L1/',\n",
       "  'CatBoost_BAG_L1': 'AutogluonModels/ag-20221220_024818/models/CatBoost_BAG_L1/',\n",
       "  'ExtraTreesGini_BAG_L1': 'AutogluonModels/ag-20221220_024818/models/ExtraTreesGini_BAG_L1/',\n",
       "  'ExtraTreesEntr_BAG_L1': 'AutogluonModels/ag-20221220_024818/models/ExtraTreesEntr_BAG_L1/',\n",
       "  'XGBoost_BAG_L1': 'AutogluonModels/ag-20221220_024818/models/XGBoost_BAG_L1/',\n",
       "  'NeuralNetTorch_BAG_L1': 'AutogluonModels/ag-20221220_024818/models/NeuralNetTorch_BAG_L1/',\n",
       "  'LightGBMLarge_BAG_L1': 'AutogluonModels/ag-20221220_024818/models/LightGBMLarge_BAG_L1/',\n",
       "  'WeightedEnsemble_L2': 'AutogluonModels/ag-20221220_024818/models/WeightedEnsemble_L2/'},\n",
       " 'model_fit_times': {'KNeighborsUnif_BAG_L1': 0.004735708236694336,\n",
       "  'KNeighborsDist_BAG_L1': 0.00386810302734375,\n",
       "  'NeuralNetFastAI_BAG_L1': 18.650365114212036,\n",
       "  'LightGBMXT_BAG_L1': 9.95959758758545,\n",
       "  'LightGBM_BAG_L1': 9.976712226867676,\n",
       "  'RandomForestGini_BAG_L1': 0.7946393489837646,\n",
       "  'RandomForestEntr_BAG_L1': 0.8026974201202393,\n",
       "  'CatBoost_BAG_L1': 11.605760097503662,\n",
       "  'ExtraTreesGini_BAG_L1': 0.7413232326507568,\n",
       "  'ExtraTreesEntr_BAG_L1': 0.7332315444946289,\n",
       "  'XGBoost_BAG_L1': 13.111189603805542,\n",
       "  'NeuralNetTorch_BAG_L1': 13.074633836746216,\n",
       "  'LightGBMLarge_BAG_L1': 11.434942245483398,\n",
       "  'WeightedEnsemble_L2': 0.45271754264831543},\n",
       " 'model_pred_times': {'KNeighborsUnif_BAG_L1': 0.10273241996765137,\n",
       "  'KNeighborsDist_BAG_L1': 0.1017298698425293,\n",
       "  'NeuralNetFastAI_BAG_L1': 0.10414719581604004,\n",
       "  'LightGBMXT_BAG_L1': 0.013392210006713867,\n",
       "  'LightGBM_BAG_L1': 0.013767242431640625,\n",
       "  'RandomForestGini_BAG_L1': 0.1215202808380127,\n",
       "  'RandomForestEntr_BAG_L1': 0.0993506908416748,\n",
       "  'CatBoost_BAG_L1': 0.0054395198822021484,\n",
       "  'ExtraTreesGini_BAG_L1': 0.15746092796325684,\n",
       "  'ExtraTreesEntr_BAG_L1': 0.10026884078979492,\n",
       "  'XGBoost_BAG_L1': 0.07642245292663574,\n",
       "  'NeuralNetTorch_BAG_L1': 0.054654836654663086,\n",
       "  'LightGBMLarge_BAG_L1': 0.021154165267944336,\n",
       "  'WeightedEnsemble_L2': 0.0006496906280517578},\n",
       " 'num_bag_folds': 5,\n",
       " 'max_stack_level': 2,\n",
       " 'num_classes': 3,\n",
       " 'model_hyperparams': {'KNeighborsUnif_BAG_L1': {'use_orig_features': True,\n",
       "   'max_base_models': 25,\n",
       "   'max_base_models_per_type': 5,\n",
       "   'save_bag_folds': True,\n",
       "   'use_child_oof': True},\n",
       "  'KNeighborsDist_BAG_L1': {'use_orig_features': True,\n",
       "   'max_base_models': 25,\n",
       "   'max_base_models_per_type': 5,\n",
       "   'save_bag_folds': True,\n",
       "   'use_child_oof': True},\n",
       "  'NeuralNetFastAI_BAG_L1': {'use_orig_features': True,\n",
       "   'max_base_models': 25,\n",
       "   'max_base_models_per_type': 5,\n",
       "   'save_bag_folds': True},\n",
       "  'LightGBMXT_BAG_L1': {'use_orig_features': True,\n",
       "   'max_base_models': 25,\n",
       "   'max_base_models_per_type': 5,\n",
       "   'save_bag_folds': True},\n",
       "  'LightGBM_BAG_L1': {'use_orig_features': True,\n",
       "   'max_base_models': 25,\n",
       "   'max_base_models_per_type': 5,\n",
       "   'save_bag_folds': True},\n",
       "  'RandomForestGini_BAG_L1': {'use_orig_features': True,\n",
       "   'max_base_models': 25,\n",
       "   'max_base_models_per_type': 5,\n",
       "   'save_bag_folds': True,\n",
       "   'use_child_oof': True},\n",
       "  'RandomForestEntr_BAG_L1': {'use_orig_features': True,\n",
       "   'max_base_models': 25,\n",
       "   'max_base_models_per_type': 5,\n",
       "   'save_bag_folds': True,\n",
       "   'use_child_oof': True},\n",
       "  'CatBoost_BAG_L1': {'use_orig_features': True,\n",
       "   'max_base_models': 25,\n",
       "   'max_base_models_per_type': 5,\n",
       "   'save_bag_folds': True},\n",
       "  'ExtraTreesGini_BAG_L1': {'use_orig_features': True,\n",
       "   'max_base_models': 25,\n",
       "   'max_base_models_per_type': 5,\n",
       "   'save_bag_folds': True,\n",
       "   'use_child_oof': True},\n",
       "  'ExtraTreesEntr_BAG_L1': {'use_orig_features': True,\n",
       "   'max_base_models': 25,\n",
       "   'max_base_models_per_type': 5,\n",
       "   'save_bag_folds': True,\n",
       "   'use_child_oof': True},\n",
       "  'XGBoost_BAG_L1': {'use_orig_features': True,\n",
       "   'max_base_models': 25,\n",
       "   'max_base_models_per_type': 5,\n",
       "   'save_bag_folds': True},\n",
       "  'NeuralNetTorch_BAG_L1': {'use_orig_features': True,\n",
       "   'max_base_models': 25,\n",
       "   'max_base_models_per_type': 5,\n",
       "   'save_bag_folds': True},\n",
       "  'LightGBMLarge_BAG_L1': {'use_orig_features': True,\n",
       "   'max_base_models': 25,\n",
       "   'max_base_models_per_type': 5,\n",
       "   'save_bag_folds': True},\n",
       "  'WeightedEnsemble_L2': {'use_orig_features': False,\n",
       "   'max_base_models': 25,\n",
       "   'max_base_models_per_type': 5,\n",
       "   'save_bag_folds': True}},\n",
       " 'leaderboard':                       model  score_val  pred_time_val   fit_time  \\\n",
       " 0       WeightedEnsemble_L2   1.000000       0.076459  24.962294   \n",
       " 1         LightGBMXT_BAG_L1   0.985915       0.013392   9.959598   \n",
       " 2      LightGBMLarge_BAG_L1   0.985915       0.021154  11.434942   \n",
       " 3     NeuralNetTorch_BAG_L1   0.985915       0.054655  13.074634   \n",
       " 4   RandomForestEntr_BAG_L1   0.985915       0.099351   0.802697   \n",
       " 5    NeuralNetFastAI_BAG_L1   0.985915       0.104147  18.650365   \n",
       " 6   RandomForestGini_BAG_L1   0.985915       0.121520   0.794639   \n",
       " 7           CatBoost_BAG_L1   0.978873       0.005440  11.605760   \n",
       " 8           LightGBM_BAG_L1   0.978873       0.013767   9.976712   \n",
       " 9     ExtraTreesEntr_BAG_L1   0.978873       0.100269   0.733232   \n",
       " 10           XGBoost_BAG_L1   0.971831       0.076422  13.111190   \n",
       " 11    ExtraTreesGini_BAG_L1   0.971831       0.157461   0.741323   \n",
       " 12    KNeighborsDist_BAG_L1   0.711268       0.101730   0.003868   \n",
       " 13    KNeighborsUnif_BAG_L1   0.661972       0.102732   0.004736   \n",
       " \n",
       "     pred_time_val_marginal  fit_time_marginal  stack_level  can_infer  \\\n",
       " 0                 0.000650           0.452718            2       True   \n",
       " 1                 0.013392           9.959598            1       True   \n",
       " 2                 0.021154          11.434942            1       True   \n",
       " 3                 0.054655          13.074634            1       True   \n",
       " 4                 0.099351           0.802697            1       True   \n",
       " 5                 0.104147          18.650365            1       True   \n",
       " 6                 0.121520           0.794639            1       True   \n",
       " 7                 0.005440          11.605760            1       True   \n",
       " 8                 0.013767           9.976712            1       True   \n",
       " 9                 0.100269           0.733232            1       True   \n",
       " 10                0.076422          13.111190            1       True   \n",
       " 11                0.157461           0.741323            1       True   \n",
       " 12                0.101730           0.003868            1       True   \n",
       " 13                0.102732           0.004736            1       True   \n",
       " \n",
       "     fit_order  \n",
       " 0          14  \n",
       " 1           4  \n",
       " 2          13  \n",
       " 3          12  \n",
       " 4           7  \n",
       " 5           3  \n",
       " 6           6  \n",
       " 7           8  \n",
       " 8           5  \n",
       " 9          10  \n",
       " 10         11  \n",
       " 11          9  \n",
       " 12          2  \n",
       " 13          1  }"
      ]
     },
     "execution_count": 7,
     "metadata": {},
     "output_type": "execute_result"
    }
   ],
   "source": [
    "# Output the fit summary of the training run\n",
    "predictor.fit_summary()"
   ]
  },
  {
   "cell_type": "code",
   "execution_count": 8,
   "id": "4d31d230-7ef4-402d-be08-f9572bc70299",
   "metadata": {
    "tags": []
   },
   "outputs": [
    {
     "data": {
      "text/plain": [
       "<AxesSubplot:xlabel='model'>"
      ]
     },
     "execution_count": 8,
     "metadata": {},
     "output_type": "execute_result"
    },
    {
     "data": {
      "image/png": "[encoded data removed]",
      "text/plain": [
       "<Figure size 432x288 with 1 Axes>"
      ]
     },
     "metadata": {
      "needs_background": "light"
     },
     "output_type": "display_data"
    }
   ],
   "source": [
    "# Output the model's `score_val` in a bar chart to compare performance\n",
    "predictor.leaderboard(silent=True).plot(kind=\"bar\", x=\"model\", y=\"score_val\")"
   ]
  },
  {
   "cell_type": "code",
   "execution_count": 9,
   "id": "373d5630-84b5-4fbb-9b9a-08871ec4fe98",
   "metadata": {
    "tags": []
   },
   "outputs": [
    {
     "name": "stderr",
     "output_type": "stream",
     "text": [
      "Evaluation: accuracy on test data: 0.9722222222222222\n",
      "Evaluations on test data:\n",
      "{\n",
      "    \"accuracy\": 0.9722222222222222,\n",
      "    \"balanced_accuracy\": 0.9791666666666666,\n",
      "    \"mcc\": 0.9572184238576891\n",
      "}\n"
     ]
    }
   ],
   "source": [
    "# Evaluate the models performance on the test dataset\n",
    "performance = predictor.evaluate(df_test)"
   ]
  },
  {
   "cell_type": "markdown",
   "id": "8614c377-9f5b-4a2a-bc3c-0a049413b6e5",
   "metadata": {},
   "source": [
    "## AutoGluon Regression"
   ]
  },
  {
   "cell_type": "code",
   "execution_count": 10,
   "id": "6fe39b07-53b3-4576-b392-1a1df77b43f7",
   "metadata": {
    "tags": []
   },
   "outputs": [],
   "source": [
    "# Load in the diabetes dataset\n",
    "diabetes = datasets.load_diabetes()"
   ]
  },
  {
   "cell_type": "code",
   "execution_count": 11,
   "id": "e36b9530-5bcd-40b4-a1f0-e6ad32bac145",
   "metadata": {
    "tags": []
   },
   "outputs": [],
   "source": [
    "# Create the diabetes `data` dataset as a dataframe and name the columns with `feature_names`\n",
    "dfd = pd.DataFrame(diabetes[\"data\"], columns=diabetes[\"feature_names\"])\n",
    "\n",
    "# Include the target as well\n",
    "dfd['target'] = diabetes[\"target\"]"
   ]
  },
  {
   "cell_type": "code",
   "execution_count": 12,
   "id": "85a9b895-00a5-48b9-951f-e36436255d5c",
   "metadata": {
    "tags": []
   },
   "outputs": [],
   "source": [
    "# Split your data with these ratios: train: 0.8 | test: 0.2\n",
    "dfd_train, dfd_test = train_test_split(\n",
    "    dfd,\n",
    "    test_size = 0.2,\n",
    "    random_state = 0\n",
    ")"
   ]
  },
  {
   "cell_type": "code",
   "execution_count": 13,
   "id": "1b0f9d06-9436-4a4e-988d-f0ad00b26e10",
   "metadata": {
    "tags": []
   },
   "outputs": [
    {
     "name": "stderr",
     "output_type": "stream",
     "text": [
      "No path specified. Models will be saved in: \"AutogluonModels/ag-20221220_025243/\"\n",
      "Presets specified: ['best_quality']\n",
      "Stack configuration (auto_stack=True): num_stack_levels=0, num_bag_folds=5, num_bag_sets=20\n",
      "Beginning AutoGluon training ... Time limit = 120s\n",
      "AutoGluon will save models to \"AutogluonModels/ag-20221220_025243/\"\n",
      "AutoGluon Version:  0.6.1\n",
      "Python Version:     3.7.10\n",
      "Operating System:   Linux\n",
      "Platform Machine:   x86_64\n",
      "Platform Version:   #1 SMP Wed Oct 26 20:36:53 UTC 2022\n",
      "Train Data Rows:    353\n",
      "Train Data Columns: 10\n",
      "Label Column: target\n",
      "Preprocessing data ...\n",
      "Using Feature Generators to preprocess the data ...\n",
      "Fitting AutoMLPipelineFeatureGenerator...\n",
      "\tAvailable Memory:                    2281.37 MB\n",
      "\tTrain Data (Original)  Memory Usage: 0.03 MB (0.0% of available memory)\n",
      "\tInferring data type of each feature based on column values. Set feature_metadata_in to manually specify special dtypes of the features.\n",
      "\tStage 1 Generators:\n",
      "\t\tFitting AsTypeFeatureGenerator...\n",
      "\t\t\tNote: Converting 1 features to boolean dtype as they only contain 2 unique values.\n",
      "\tStage 2 Generators:\n",
      "\t\tFitting FillNaFeatureGenerator...\n",
      "\tStage 3 Generators:\n",
      "\t\tFitting IdentityFeatureGenerator...\n",
      "\tStage 4 Generators:\n",
      "\t\tFitting DropUniqueFeatureGenerator...\n",
      "\tTypes of features in original data (raw dtype, special dtypes):\n",
      "\t\t('float', []) : 10 | ['age', 'sex', 'bmi', 'bp', 's1', ...]\n",
      "\tTypes of features in processed data (raw dtype, special dtypes):\n",
      "\t\t('float', [])     : 9 | ['age', 'bmi', 'bp', 's1', 's2', ...]\n",
      "\t\t('int', ['bool']) : 1 | ['sex']\n",
      "\t0.1s = Fit runtime\n",
      "\t10 features in original data used to generate 10 features in processed data.\n",
      "\tTrain Data (Processed) Memory Usage: 0.03 MB (0.0% of available memory)\n",
      "Data preprocessing and feature engineering runtime = 0.09s ...\n",
      "AutoGluon will gauge predictive performance using evaluation metric: 'r2'\n",
      "\tTo change this, specify the eval_metric parameter of Predictor()\n",
      "Fitting 11 L1 models ...\n",
      "Fitting model: KNeighborsUnif_BAG_L1 ... Training model for up to 119.91s of the 119.9s of remaining time.\n",
      "\t0.4305\t = Validation score   (r2)\n",
      "\t0.01s\t = Training   runtime\n",
      "\t0.1s\t = Validation runtime\n",
      "Fitting model: KNeighborsDist_BAG_L1 ... Training model for up to 119.69s of the 119.69s of remaining time.\n",
      "\t0.4397\t = Validation score   (r2)\n",
      "\t0.0s\t = Training   runtime\n",
      "\t0.1s\t = Validation runtime\n",
      "Fitting model: LightGBMXT_BAG_L1 ... Training model for up to 119.5s of the 119.5s of remaining time.\n",
      "\tFitting 5 child models (S1F1 - S1F5) | Fitting with ParallelLocalFoldFittingStrategy\n",
      "\t0.5416\t = Validation score   (r2)\n",
      "\t11.03s\t = Training   runtime\n",
      "\t0.02s\t = Validation runtime\n",
      "Fitting model: LightGBM_BAG_L1 ... Training model for up to 104.75s of the 104.74s of remaining time.\n",
      "\tFitting 5 child models (S1F1 - S1F5) | Fitting with ParallelLocalFoldFittingStrategy\n",
      "\t0.514\t = Validation score   (r2)\n",
      "\t11.04s\t = Training   runtime\n",
      "\t0.02s\t = Validation runtime\n",
      "Fitting model: RandomForestMSE_BAG_L1 ... Training model for up to 89.64s of the 89.64s of remaining time.\n",
      "\t0.4706\t = Validation score   (r2)\n",
      "\t0.84s\t = Training   runtime\n",
      "\t0.16s\t = Validation runtime\n",
      "Fitting model: CatBoost_BAG_L1 ... Training model for up to 88.43s of the 88.43s of remaining time.\n",
      "\tFitting 5 child models (S1F1 - S1F5) | Fitting with ParallelLocalFoldFittingStrategy\n",
      "\t0.5228\t = Validation score   (r2)\n",
      "\t11.23s\t = Training   runtime\n",
      "\t0.01s\t = Validation runtime\n",
      "Fitting model: ExtraTreesMSE_BAG_L1 ... Training model for up to 73.54s of the 73.53s of remaining time.\n",
      "\t0.4967\t = Validation score   (r2)\n",
      "\t0.63s\t = Training   runtime\n",
      "\t0.15s\t = Validation runtime\n",
      "Fitting model: NeuralNetFastAI_BAG_L1 ... Training model for up to 72.55s of the 72.54s of remaining time.\n",
      "\tFitting 5 child models (S1F1 - S1F5) | Fitting with ParallelLocalFoldFittingStrategy\n",
      "\t0.4904\t = Validation score   (r2)\n",
      "\t18.66s\t = Training   runtime\n",
      "\t0.09s\t = Validation runtime\n",
      "Fitting model: XGBoost_BAG_L1 ... Training model for up to 50.16s of the 50.16s of remaining time.\n",
      "\tFitting 5 child models (S1F1 - S1F5) | Fitting with ParallelLocalFoldFittingStrategy\n",
      "\t0.4456\t = Validation score   (r2)\n",
      "\t20.32s\t = Training   runtime\n",
      "\t0.1s\t = Validation runtime\n",
      "Fitting model: NeuralNetTorch_BAG_L1 ... Training model for up to 25.87s of the 25.87s of remaining time.\n",
      "\tFitting 5 child models (S1F1 - S1F5) | Fitting with ParallelLocalFoldFittingStrategy\n",
      "\t0.5272\t = Validation score   (r2)\n",
      "\t14.37s\t = Training   runtime\n",
      "\t0.05s\t = Validation runtime\n",
      "Fitting model: LightGBMLarge_BAG_L1 ... Training model for up to 7.64s of the 7.64s of remaining time.\n",
      "\tFitting 5 child models (S1F1 - S1F5) | Fitting with ParallelLocalFoldFittingStrategy\n",
      "\t0.4569\t = Validation score   (r2)\n",
      "\t11.85s\t = Training   runtime\n",
      "\t0.02s\t = Validation runtime\n",
      "Completed 1/20 k-fold bagging repeats ...\n",
      "Fitting model: WeightedEnsemble_L2 ... Training model for up to 119.91s of the -8.29s of remaining time.\n",
      "\t0.5546\t = Validation score   (r2)\n",
      "\t0.46s\t = Training   runtime\n",
      "\t0.0s\t = Validation runtime\n",
      "AutoGluon training complete, total runtime = 128.9s ... Best model: \"WeightedEnsemble_L2\"\n",
      "TabularPredictor saved. To load, use: predictor = TabularPredictor.load(\"AutogluonModels/ag-20221220_025243/\")\n"
     ]
    }
   ],
   "source": [
    "# How does the model perform on the training dataset and default model parameters?\n",
    "# Using the hyperparameters in the requirements, is there improvement?\n",
    "# Remember we use the test dataset to score the model\n",
    "# No need to explicitly say this is a regression, autogluon will pick it up\n",
    "predictor = TabularPredictor(label=\"target\", problem_type=\"regression\", eval_metric=\"r2\").fit(\n",
    "    train_data=dfd_train,\n",
    "    time_limit=120,\n",
    "    presets=\"best_quality\"\n",
    "    )"
   ]
  },
  {
   "cell_type": "code",
   "execution_count": 14,
   "id": "1b09621b-9ce7-4889-bcf9-c9b8687438ef",
   "metadata": {
    "tags": []
   },
   "outputs": [
    {
     "name": "stdout",
     "output_type": "stream",
     "text": [
      "*** Summary of fit() ***\n",
      "Estimated performance of each model:\n",
      "                     model  score_val  pred_time_val   fit_time  pred_time_val_marginal  fit_time_marginal  stack_level  can_infer  fit_order\n",
      "0      WeightedEnsemble_L2   0.554562       0.180482  55.546713                0.000767           0.460586            2       True         12\n",
      "1        LightGBMXT_BAG_L1   0.541581       0.019809  11.026557                0.019809          11.026557            1       True          3\n",
      "2    NeuralNetTorch_BAG_L1   0.527235       0.048709  14.365545                0.048709          14.365545            1       True         10\n",
      "3          CatBoost_BAG_L1   0.522807       0.007223  11.229386                0.007223          11.229386            1       True          6\n",
      "4          LightGBM_BAG_L1   0.514039       0.016366  11.035709                0.016366          11.035709            1       True          4\n",
      "5     ExtraTreesMSE_BAG_L1   0.496684       0.146001   0.634171                0.146001           0.634171            1       True          7\n",
      "6   NeuralNetFastAI_BAG_L1   0.490437       0.094831  18.658317                0.094831          18.658317            1       True          8\n",
      "7   RandomForestMSE_BAG_L1   0.470609       0.161982   0.837429                0.161982           0.837429            1       True          5\n",
      "8     LightGBMLarge_BAG_L1   0.456922       0.022780  11.852184                0.022780          11.852184            1       True         11\n",
      "9           XGBoost_BAG_L1   0.445574       0.099481  20.318864                0.099481          20.318864            1       True          9\n",
      "10   KNeighborsDist_BAG_L1   0.439701       0.101846   0.004317                0.101846           0.004317            1       True          2\n",
      "11   KNeighborsUnif_BAG_L1   0.430521       0.101851   0.005004                0.101851           0.005004            1       True          1\n",
      "Number of models trained: 12\n",
      "Types of models trained:\n",
      "{'StackerEnsembleModel_KNN', 'StackerEnsembleModel_XT', 'StackerEnsembleModel_XGBoost', 'StackerEnsembleModel_LGB', 'StackerEnsembleModel_RF', 'StackerEnsembleModel_NNFastAiTabular', 'StackerEnsembleModel_CatBoost', 'WeightedEnsembleModel', 'StackerEnsembleModel_TabularNeuralNetTorch'}\n",
      "Bagging used: True  (with 5 folds)\n",
      "Multi-layer stack-ensembling used: False \n",
      "Feature Metadata (Processed):\n",
      "(raw dtype, special dtypes):\n",
      "('float', [])     : 9 | ['age', 'bmi', 'bp', 's1', 's2', ...]\n",
      "('int', ['bool']) : 1 | ['sex']\n",
      "Plot summary of models saved to file: AutogluonModels/ag-20221220_025243/SummaryOfModels.html\n",
      "*** End of fit() summary ***\n"
     ]
    },
    {
     "data": {
      "text/plain": [
       "{'model_types': {'KNeighborsUnif_BAG_L1': 'StackerEnsembleModel_KNN',\n",
       "  'KNeighborsDist_BAG_L1': 'StackerEnsembleModel_KNN',\n",
       "  'LightGBMXT_BAG_L1': 'StackerEnsembleModel_LGB',\n",
       "  'LightGBM_BAG_L1': 'StackerEnsembleModel_LGB',\n",
       "  'RandomForestMSE_BAG_L1': 'StackerEnsembleModel_RF',\n",
       "  'CatBoost_BAG_L1': 'StackerEnsembleModel_CatBoost',\n",
       "  'ExtraTreesMSE_BAG_L1': 'StackerEnsembleModel_XT',\n",
       "  'NeuralNetFastAI_BAG_L1': 'StackerEnsembleModel_NNFastAiTabular',\n",
       "  'XGBoost_BAG_L1': 'StackerEnsembleModel_XGBoost',\n",
       "  'NeuralNetTorch_BAG_L1': 'StackerEnsembleModel_TabularNeuralNetTorch',\n",
       "  'LightGBMLarge_BAG_L1': 'StackerEnsembleModel_LGB',\n",
       "  'WeightedEnsemble_L2': 'WeightedEnsembleModel'},\n",
       " 'model_performance': {'KNeighborsUnif_BAG_L1': 0.43052099899418794,\n",
       "  'KNeighborsDist_BAG_L1': 0.43970122394744415,\n",
       "  'LightGBMXT_BAG_L1': 0.5415805668677733,\n",
       "  'LightGBM_BAG_L1': 0.5140394842930078,\n",
       "  'RandomForestMSE_BAG_L1': 0.4706085411454686,\n",
       "  'CatBoost_BAG_L1': 0.5228072001429453,\n",
       "  'ExtraTreesMSE_BAG_L1': 0.4966838407427535,\n",
       "  'NeuralNetFastAI_BAG_L1': 0.4904366199510154,\n",
       "  'XGBoost_BAG_L1': 0.4455738728434837,\n",
       "  'NeuralNetTorch_BAG_L1': 0.5272348378530032,\n",
       "  'LightGBMLarge_BAG_L1': 0.45692155144090785,\n",
       "  'WeightedEnsemble_L2': 0.5545615687571502},\n",
       " 'model_best': 'WeightedEnsemble_L2',\n",
       " 'model_paths': {'KNeighborsUnif_BAG_L1': 'AutogluonModels/ag-20221220_025243/models/KNeighborsUnif_BAG_L1/',\n",
       "  'KNeighborsDist_BAG_L1': 'AutogluonModels/ag-20221220_025243/models/KNeighborsDist_BAG_L1/',\n",
       "  'LightGBMXT_BAG_L1': 'AutogluonModels/ag-20221220_025243/models/LightGBMXT_BAG_L1/',\n",
       "  'LightGBM_BAG_L1': 'AutogluonModels/ag-20221220_025243/models/LightGBM_BAG_L1/',\n",
       "  'RandomForestMSE_BAG_L1': 'AutogluonModels/ag-20221220_025243/models/RandomForestMSE_BAG_L1/',\n",
       "  'CatBoost_BAG_L1': 'AutogluonModels/ag-20221220_025243/models/CatBoost_BAG_L1/',\n",
       "  'ExtraTreesMSE_BAG_L1': 'AutogluonModels/ag-20221220_025243/models/ExtraTreesMSE_BAG_L1/',\n",
       "  'NeuralNetFastAI_BAG_L1': 'AutogluonModels/ag-20221220_025243/models/NeuralNetFastAI_BAG_L1/',\n",
       "  'XGBoost_BAG_L1': 'AutogluonModels/ag-20221220_025243/models/XGBoost_BAG_L1/',\n",
       "  'NeuralNetTorch_BAG_L1': 'AutogluonModels/ag-20221220_025243/models/NeuralNetTorch_BAG_L1/',\n",
       "  'LightGBMLarge_BAG_L1': 'AutogluonModels/ag-20221220_025243/models/LightGBMLarge_BAG_L1/',\n",
       "  'WeightedEnsemble_L2': 'AutogluonModels/ag-20221220_025243/models/WeightedEnsemble_L2/'},\n",
       " 'model_fit_times': {'KNeighborsUnif_BAG_L1': 0.005004167556762695,\n",
       "  'KNeighborsDist_BAG_L1': 0.004316568374633789,\n",
       "  'LightGBMXT_BAG_L1': 11.026556730270386,\n",
       "  'LightGBM_BAG_L1': 11.035708665847778,\n",
       "  'RandomForestMSE_BAG_L1': 0.8374288082122803,\n",
       "  'CatBoost_BAG_L1': 11.229385614395142,\n",
       "  'ExtraTreesMSE_BAG_L1': 0.6341710090637207,\n",
       "  'NeuralNetFastAI_BAG_L1': 18.65831685066223,\n",
       "  'XGBoost_BAG_L1': 20.3188636302948,\n",
       "  'NeuralNetTorch_BAG_L1': 14.365545272827148,\n",
       "  'LightGBMLarge_BAG_L1': 11.852183818817139,\n",
       "  'WeightedEnsemble_L2': 0.4605858325958252},\n",
       " 'model_pred_times': {'KNeighborsUnif_BAG_L1': 0.10185122489929199,\n",
       "  'KNeighborsDist_BAG_L1': 0.10184597969055176,\n",
       "  'LightGBMXT_BAG_L1': 0.019808530807495117,\n",
       "  'LightGBM_BAG_L1': 0.01636648178100586,\n",
       "  'RandomForestMSE_BAG_L1': 0.16198182106018066,\n",
       "  'CatBoost_BAG_L1': 0.007222652435302734,\n",
       "  'ExtraTreesMSE_BAG_L1': 0.14600086212158203,\n",
       "  'NeuralNetFastAI_BAG_L1': 0.09483146667480469,\n",
       "  'XGBoost_BAG_L1': 0.09948062896728516,\n",
       "  'NeuralNetTorch_BAG_L1': 0.04870867729187012,\n",
       "  'LightGBMLarge_BAG_L1': 0.022780179977416992,\n",
       "  'WeightedEnsemble_L2': 0.000766754150390625},\n",
       " 'num_bag_folds': 5,\n",
       " 'max_stack_level': 2,\n",
       " 'model_hyperparams': {'KNeighborsUnif_BAG_L1': {'use_orig_features': True,\n",
       "   'max_base_models': 25,\n",
       "   'max_base_models_per_type': 5,\n",
       "   'save_bag_folds': True,\n",
       "   'use_child_oof': True},\n",
       "  'KNeighborsDist_BAG_L1': {'use_orig_features': True,\n",
       "   'max_base_models': 25,\n",
       "   'max_base_models_per_type': 5,\n",
       "   'save_bag_folds': True,\n",
       "   'use_child_oof': True},\n",
       "  'LightGBMXT_BAG_L1': {'use_orig_features': True,\n",
       "   'max_base_models': 25,\n",
       "   'max_base_models_per_type': 5,\n",
       "   'save_bag_folds': True},\n",
       "  'LightGBM_BAG_L1': {'use_orig_features': True,\n",
       "   'max_base_models': 25,\n",
       "   'max_base_models_per_type': 5,\n",
       "   'save_bag_folds': True},\n",
       "  'RandomForestMSE_BAG_L1': {'use_orig_features': True,\n",
       "   'max_base_models': 25,\n",
       "   'max_base_models_per_type': 5,\n",
       "   'save_bag_folds': True,\n",
       "   'use_child_oof': True},\n",
       "  'CatBoost_BAG_L1': {'use_orig_features': True,\n",
       "   'max_base_models': 25,\n",
       "   'max_base_models_per_type': 5,\n",
       "   'save_bag_folds': True},\n",
       "  'ExtraTreesMSE_BAG_L1': {'use_orig_features': True,\n",
       "   'max_base_models': 25,\n",
       "   'max_base_models_per_type': 5,\n",
       "   'save_bag_folds': True,\n",
       "   'use_child_oof': True},\n",
       "  'NeuralNetFastAI_BAG_L1': {'use_orig_features': True,\n",
       "   'max_base_models': 25,\n",
       "   'max_base_models_per_type': 5,\n",
       "   'save_bag_folds': True},\n",
       "  'XGBoost_BAG_L1': {'use_orig_features': True,\n",
       "   'max_base_models': 25,\n",
       "   'max_base_models_per_type': 5,\n",
       "   'save_bag_folds': True},\n",
       "  'NeuralNetTorch_BAG_L1': {'use_orig_features': True,\n",
       "   'max_base_models': 25,\n",
       "   'max_base_models_per_type': 5,\n",
       "   'save_bag_folds': True},\n",
       "  'LightGBMLarge_BAG_L1': {'use_orig_features': True,\n",
       "   'max_base_models': 25,\n",
       "   'max_base_models_per_type': 5,\n",
       "   'save_bag_folds': True},\n",
       "  'WeightedEnsemble_L2': {'use_orig_features': False,\n",
       "   'max_base_models': 25,\n",
       "   'max_base_models_per_type': 5,\n",
       "   'save_bag_folds': True}},\n",
       " 'leaderboard':                      model  score_val  pred_time_val   fit_time  \\\n",
       " 0      WeightedEnsemble_L2   0.554562       0.180482  55.546713   \n",
       " 1        LightGBMXT_BAG_L1   0.541581       0.019809  11.026557   \n",
       " 2    NeuralNetTorch_BAG_L1   0.527235       0.048709  14.365545   \n",
       " 3          CatBoost_BAG_L1   0.522807       0.007223  11.229386   \n",
       " 4          LightGBM_BAG_L1   0.514039       0.016366  11.035709   \n",
       " 5     ExtraTreesMSE_BAG_L1   0.496684       0.146001   0.634171   \n",
       " 6   NeuralNetFastAI_BAG_L1   0.490437       0.094831  18.658317   \n",
       " 7   RandomForestMSE_BAG_L1   0.470609       0.161982   0.837429   \n",
       " 8     LightGBMLarge_BAG_L1   0.456922       0.022780  11.852184   \n",
       " 9           XGBoost_BAG_L1   0.445574       0.099481  20.318864   \n",
       " 10   KNeighborsDist_BAG_L1   0.439701       0.101846   0.004317   \n",
       " 11   KNeighborsUnif_BAG_L1   0.430521       0.101851   0.005004   \n",
       " \n",
       "     pred_time_val_marginal  fit_time_marginal  stack_level  can_infer  \\\n",
       " 0                 0.000767           0.460586            2       True   \n",
       " 1                 0.019809          11.026557            1       True   \n",
       " 2                 0.048709          14.365545            1       True   \n",
       " 3                 0.007223          11.229386            1       True   \n",
       " 4                 0.016366          11.035709            1       True   \n",
       " 5                 0.146001           0.634171            1       True   \n",
       " 6                 0.094831          18.658317            1       True   \n",
       " 7                 0.161982           0.837429            1       True   \n",
       " 8                 0.022780          11.852184            1       True   \n",
       " 9                 0.099481          20.318864            1       True   \n",
       " 10                0.101846           0.004317            1       True   \n",
       " 11                0.101851           0.005004            1       True   \n",
       " \n",
       "     fit_order  \n",
       " 0          12  \n",
       " 1           3  \n",
       " 2          10  \n",
       " 3           6  \n",
       " 4           4  \n",
       " 5           7  \n",
       " 6           8  \n",
       " 7           5  \n",
       " 8          11  \n",
       " 9           9  \n",
       " 10          2  \n",
       " 11          1  }"
      ]
     },
     "execution_count": 14,
     "metadata": {},
     "output_type": "execute_result"
    }
   ],
   "source": [
    "# Output the fit summary of the training run\n",
    "predictor.fit_summary()"
   ]
  },
  {
   "cell_type": "code",
   "execution_count": 15,
   "id": "455f06b5-82ec-474d-b44d-0f042c7f187e",
   "metadata": {
    "tags": []
   },
   "outputs": [
    {
     "data": {
      "text/plain": [
       "<AxesSubplot:xlabel='model'>"
      ]
     },
     "execution_count": 15,
     "metadata": {},
     "output_type": "execute_result"
    },
    {
     "data": {
      "image/png": "[encoded data removed]",
      "text/plain": [
       "<Figure size 432x288 with 1 Axes>"
      ]
     },
     "metadata": {
      "needs_background": "light"
     },
     "output_type": "display_data"
    }
   ],
   "source": [
    "# Output the model's `score_val` in a bar chart to compare performance\n",
    "predictor.leaderboard(silent=True).plot(kind=\"bar\", x=\"model\", y=\"score_val\")"
   ]
  },
  {
   "cell_type": "code",
   "execution_count": 16,
   "id": "98c39401-a8cb-4e6c-aabb-c318f384e423",
   "metadata": {
    "tags": []
   },
   "outputs": [
    {
     "name": "stderr",
     "output_type": "stream",
     "text": [
      "Evaluation: r2 on test data: 0.3102745208711012\n",
      "Evaluations on test data:\n",
      "{\n",
      "    \"r2\": 0.3102745208711012,\n",
      "    \"root_mean_squared_error\": -59.47152198575064,\n",
      "    \"mean_squared_error\": -3536.8619273016216,\n",
      "    \"mean_absolute_error\": -44.68158490470286,\n",
      "    \"pearsonr\": 0.583824322891839,\n",
      "    \"median_absolute_error\": -32.883026123046875\n",
      "}\n"
     ]
    }
   ],
   "source": [
    "# Evaluate the models performance on the test dataset\n",
    "performance = predictor.evaluate(dfd_test)"
   ]
  }
 ],
 "metadata": {
  "instance_type": "ml.t3.medium",
  "kernelspec": {
   "display_name": "Python 3 (MXNet 1.8 Python 3.7 CPU Optimized)",
   "language": "python",
   "name": "python3__SAGEMAKER_INTERNAL__arn:aws:sagemaker:us-east-1:081325390199:image/mxnet-1.8-cpu-py37-ubuntu16.04-v1"
  },
  "language_info": {
   "codemirror_mode": {
    "name": "ipython",
    "version": 3
   },
   "file_extension": ".py",
   "mimetype": "text/x-python",
   "name": "python",
   "nbconvert_exporter": "python",
   "pygments_lexer": "ipython3",
   "version": "3.7.10"
  }
 },
 "nbformat": 4,
 "nbformat_minor": 5
}
